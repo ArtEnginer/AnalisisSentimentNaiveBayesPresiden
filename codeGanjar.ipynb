{
 "cells": [
  {
   "cell_type": "code",
   "execution_count": 10,
   "metadata": {},
   "outputs": [
    {
     "name": "stderr",
     "output_type": "stream",
     "text": [
      "[nltk_data] Downloading package vader_lexicon to\n",
      "[nltk_data]     C:\\Users\\Angga\\AppData\\Roaming\\nltk_data...\n",
      "[nltk_data]   Package vader_lexicon is already up-to-date!\n",
      "[nltk_data] Downloading package stopwords to\n",
      "[nltk_data]     C:\\Users\\Angga\\AppData\\Roaming\\nltk_data...\n",
      "[nltk_data]   Package stopwords is already up-to-date!\n"
     ]
    },
    {
     "data": {
      "text/plain": [
       "True"
      ]
     },
     "execution_count": 10,
     "metadata": {},
     "output_type": "execute_result"
    }
   ],
   "source": [
    "import numpy as np\n",
    "import pandas as pd\n",
    "from sklearn.model_selection import train_test_split\n",
    "from sklearn.feature_extraction.text import CountVectorizer\n",
    "from sklearn.naive_bayes import MultinomialNB\n",
    "from sklearn.metrics import accuracy_score, classification_report\n",
    "import re\n",
    "import string\n",
    "import nltk\n",
    "from nltk.sentiment.vader import SentimentIntensityAnalyzer\n",
    "from nltk.corpus import stopwords\n",
    "nltk.download(\"vader_lexicon\")\n",
    "nltk.download('stopwords')"
   ]
  },
  {
   "cell_type": "markdown",
   "metadata": {},
   "source": [
    "LABELLING USING LEXICON BASED APPROACH"
   ]
  },
  {
   "cell_type": "code",
   "execution_count": 11,
   "metadata": {},
   "outputs": [
    {
     "data": {
      "text/plain": [
       "sentiment\n",
       "netral     682\n",
       "positif     46\n",
       "negatif      6\n",
       "Name: count, dtype: int64"
      ]
     },
     "execution_count": 11,
     "metadata": {},
     "output_type": "execute_result"
    }
   ],
   "source": [
    "\n",
    "# Baca data dari file Excel dan gabungkan\n",
    "data = pd.read_excel('dataset/ganjar.xlsx')\n",
    "data = data[['full_text']]\n",
    "\n",
    "sentiments = SentimentIntensityAnalyzer()\n",
    "data[\"Positive\"] = [sentiments.polarity_scores(i)[\"pos\"] for i in data[\"full_text\"]]\n",
    "data[\"Negative\"] = [sentiments.polarity_scores(i)[\"neg\"] for i in data[\"full_text\"]]\n",
    "data[\"Neutral\"] = [sentiments.polarity_scores(i)[\"neu\"] for i in data[\"full_text\"]]\n",
    "data[\"Compound\"] = [sentiments.polarity_scores(i)[\"compound\"] for i in data[\"full_text\"]]\n",
    "\n",
    "score= data[\"Compound\"].values\n",
    "sentiment = []\n",
    "for i in score:\n",
    "  if i >= 0.05:\n",
    "    sentiment.append('positif')\n",
    "  elif i <= -0.05 :\n",
    "    sentiment.append('negatif')\n",
    "  else:\n",
    "    sentiment.append('netral')\n",
    "data[\"sentiment\"] = sentiment\n",
    "\n",
    "data = data[['full_text', 'sentiment']]\n",
    "\n",
    "data['sentiment'].value_counts()"
   ]
  },
  {
   "cell_type": "code",
   "execution_count": 12,
   "metadata": {},
   "outputs": [
    {
     "data": {
      "image/png": "[encoded data removed]",
      "text/plain": [
       "<Figure size 640x480 with 1 Axes>"
      ]
     },
     "metadata": {},
     "output_type": "display_data"
    }
   ],
   "source": [
    "import matplotlib.pyplot as plt\n",
    "import pandas as pd\n",
    "\n",
    "count_Class = pd.value_counts(data[\"sentiment\"], sort=True)\n",
    "ax = count_Class.plot(kind='bar', color=[\"green\", \"yellow\", \"red\"])\n",
    "plt.title('Hasil Labelling')\n",
    "\n",
    "# Menambahkan teks jumlah di atas masing-masing batang\n",
    "for i, v in enumerate(count_Class):\n",
    "    ax.text(i, v, str(v), ha='center', va='bottom')\n",
    "\n",
    "plt.show()\n"
   ]
  },
  {
   "cell_type": "code",
   "execution_count": 13,
   "metadata": {},
   "outputs": [
    {
     "data": {
      "text/html": [
       "<div>\n",
       "<style scoped>\n",
       "    .dataframe tbody tr th:only-of-type {\n",
       "        vertical-align: middle;\n",
       "    }\n",
       "\n",
       "    .dataframe tbody tr th {\n",
       "        vertical-align: top;\n",
       "    }\n",
       "\n",
       "    .dataframe thead th {\n",
       "        text-align: right;\n",
       "    }\n",
       "</style>\n",
       "<table border=\"1\" class=\"dataframe\">\n",
       "  <thead>\n",
       "    <tr style=\"text-align: right;\">\n",
       "      <th></th>\n",
       "      <th>full_text</th>\n",
       "      <th>sentiment</th>\n",
       "      <th>casefolding</th>\n",
       "      <th>cleansing</th>\n",
       "      <th>tokenizing</th>\n",
       "      <th>stopword_removal</th>\n",
       "    </tr>\n",
       "  </thead>\n",
       "  <tbody>\n",
       "    <tr>\n",
       "      <th>0</th>\n",
       "      <td>\"\"@ganjarpranowo @Yansoesilo @LaporGub_ @Lapor...</td>\n",
       "      <td>netral</td>\n",
       "      <td>\"\"@ganjarpranowo @yansoesilo @laporgub_ @lapor...</td>\n",
       "      <td>beruntung amat pak  hari setelah lapor langs...</td>\n",
       "      <td>[, , beruntung, amat, pak, , hari, setelah, la...</td>\n",
       "      <td>[, , beruntung, , lapor, langsung, ditanggapi,...</td>\n",
       "    </tr>\n",
       "    <tr>\n",
       "      <th>1</th>\n",
       "      <td>\"\"@ganjarpranowo @prabowo @PDemokrat @AndiArie...</td>\n",
       "      <td>netral</td>\n",
       "      <td>\"\"@ganjarpranowo @prabowo @pdemokrat @andiarie...</td>\n",
       "      <td>anakkolong mbaksri  sedang trending anak pepo...</td>\n",
       "      <td>[, anakkolong, mbaksri, , sedang, trending, an...</td>\n",
       "      <td>[, anakkolong, mbaksri, , trending, anak, pepo...</td>\n",
       "    </tr>\n",
       "    <tr>\n",
       "      <th>2</th>\n",
       "      <td>\"\"Menjadi putra semata wayang dari Ganjar Pran...</td>\n",
       "      <td>netral</td>\n",
       "      <td>\"\"menjadi putra semata wayang dari ganjar pran...</td>\n",
       "      <td>menjadi putra semata wayang dari ganjar pranow...</td>\n",
       "      <td>[menjadi, putra, semata, wayang, dari, ganjar,...</td>\n",
       "      <td>[putra, wayang, ganjar, pranowo, siti, atikoh,...</td>\n",
       "    </tr>\n",
       "    <tr>\n",
       "      <th>3</th>\n",
       "      <td>\"\"@BungkusTukang @ganjarpranowo Siapa yg perca...</td>\n",
       "      <td>netral</td>\n",
       "      <td>\"\"@bungkustukang @ganjarpranowo siapa yg perca...</td>\n",
       "      <td>siapa  percaya hasil dri lambaga survei</td>\n",
       "      <td>[, siapa, , percaya, hasil, dri, lambaga, survei]</td>\n",
       "      <td>[, , percaya, hasil, dri, lambaga, survei]</td>\n",
       "    </tr>\n",
       "    <tr>\n",
       "      <th>4</th>\n",
       "      <td>\"\"Kemaren @budimandjatmiko dan @prabowo   Seka...</td>\n",
       "      <td>netral</td>\n",
       "      <td>\"\"kemaren @budimandjatmiko dan @prabowo   seka...</td>\n",
       "      <td>kemaren dan sekarang dan next dan  atau  berca...</td>\n",
       "      <td>[kemaren, dan, sekarang, dan, next, dan, , ata...</td>\n",
       "      <td>[kemaren, next, , , bercandanya, tuhan, terkad...</td>\n",
       "    </tr>\n",
       "  </tbody>\n",
       "</table>\n",
       "</div>"
      ],
      "text/plain": [
       "                                           full_text sentiment   \n",
       "0  \"\"@ganjarpranowo @Yansoesilo @LaporGub_ @Lapor...    netral  \\\n",
       "1  \"\"@ganjarpranowo @prabowo @PDemokrat @AndiArie...    netral   \n",
       "2  \"\"Menjadi putra semata wayang dari Ganjar Pran...    netral   \n",
       "3  \"\"@BungkusTukang @ganjarpranowo Siapa yg perca...    netral   \n",
       "4  \"\"Kemaren @budimandjatmiko dan @prabowo   Seka...    netral   \n",
       "\n",
       "                                         casefolding   \n",
       "0  \"\"@ganjarpranowo @yansoesilo @laporgub_ @lapor...  \\\n",
       "1  \"\"@ganjarpranowo @prabowo @pdemokrat @andiarie...   \n",
       "2  \"\"menjadi putra semata wayang dari ganjar pran...   \n",
       "3  \"\"@bungkustukang @ganjarpranowo siapa yg perca...   \n",
       "4  \"\"kemaren @budimandjatmiko dan @prabowo   seka...   \n",
       "\n",
       "                                           cleansing   \n",
       "0    beruntung amat pak  hari setelah lapor langs...  \\\n",
       "1   anakkolong mbaksri  sedang trending anak pepo...   \n",
       "2  menjadi putra semata wayang dari ganjar pranow...   \n",
       "3           siapa  percaya hasil dri lambaga survei    \n",
       "4  kemaren dan sekarang dan next dan  atau  berca...   \n",
       "\n",
       "                                          tokenizing   \n",
       "0  [, , beruntung, amat, pak, , hari, setelah, la...  \\\n",
       "1  [, anakkolong, mbaksri, , sedang, trending, an...   \n",
       "2  [menjadi, putra, semata, wayang, dari, ganjar,...   \n",
       "3  [, siapa, , percaya, hasil, dri, lambaga, survei]   \n",
       "4  [kemaren, dan, sekarang, dan, next, dan, , ata...   \n",
       "\n",
       "                                    stopword_removal  \n",
       "0  [, , beruntung, , lapor, langsung, ditanggapi,...  \n",
       "1  [, anakkolong, mbaksri, , trending, anak, pepo...  \n",
       "2  [putra, wayang, ganjar, pranowo, siti, atikoh,...  \n",
       "3         [, , percaya, hasil, dri, lambaga, survei]  \n",
       "4  [kemaren, next, , , bercandanya, tuhan, terkad...  "
      ]
     },
     "execution_count": 13,
     "metadata": {},
     "output_type": "execute_result"
    }
   ],
   "source": [
    "data['casefolding'] = data['full_text'].str.lower()\n",
    "\n",
    "def clean_text(text):\n",
    "    text = re.sub(r'@[A-Za-z0-9]+', '', text) # menghapus @..\n",
    "    text = re.sub(r'#', '', text) # menghapus hashtag\n",
    "    text = re.sub(r'RT[\\s]+', '', text) # menghapus RT\n",
    "    text = re.sub(r'https?:\\/\\/\\S+', '', text) # menghapus url\n",
    "    text = re.sub(r':\\)', '', text) # menghapus icon\n",
    "    text = re.sub(r\"\\s+[a-zA-Z]\\s+\", ' ', text) # menghapus single character\n",
    "    text = re.sub(r'\\s+', ' ', text) # menghapus spasi ganda\n",
    "    text = re.sub(r'[^\\w\\s]', '', text) # menghapus punctuation\n",
    "    text = re.sub(r'\\.+', '', text) #menghilangkan teks yang mengandung akhiran MULTIPLE TITIK (...)\n",
    "    text = re.sub(r'\\d+', '', text) #menghilangkan teks yang mengandung angka\n",
    "    text = re.sub(r'\\b\\w{1,2}\\b', '', text) #menghilangkan teks yang mengandung 1-2 huru\n",
    "    text = text.translate(str.maketrans('', '', string.punctuation))\n",
    "    text = text.encode('ascii', 'ignore').decode('ascii') # menghapus non-ascii (EMOTICON)\n",
    "    return text\n",
    "\n",
    "data['cleansing'] = data['casefolding'].apply(clean_text)\n",
    "# delete row with null value\n",
    "data = data.dropna()\n",
    "# menghapus row yang memiliki nilai text kosong\n",
    "data = data[data['cleansing'] != '']\n",
    "data.reset_index(drop=True, inplace = True)\n",
    "# Menghapus text duplikat\n",
    "data.cleansing.duplicated().sum()\n",
    "data.loc[data.cleansing.duplicated(), :]\n",
    "data.drop_duplicates(subset=['cleansing'], inplace=True)\n",
    "data.reset_index(drop=True, inplace = True)\n",
    "                \n",
    "#TOKENIZING\n",
    "def tokenizing(text):\n",
    "    nstr = text.split(' ')\n",
    "    md= []\n",
    "    a = -1\n",
    "    for hu in nstr:\n",
    "        a = a + 1\n",
    "    if hu == '':\n",
    "        md.append(a)\n",
    "    p = 0\n",
    "    b = 0\n",
    "    for q in md:\n",
    "        b = q - p\n",
    "        del nstr[b]\n",
    "        p = p + 1\n",
    "    return nstr\n",
    "    \n",
    "data['tokenizing'] = data['cleansing'].apply(tokenizing)\n",
    "\n",
    "def stopword_removal(text):\n",
    "    factory = stopwords.words('indonesian', 'english')\n",
    "    x = []\n",
    "    dkk = []\n",
    "    def myFunc(x):\n",
    "        if x in factory:\n",
    "            return False\n",
    "        else:\n",
    "            return True\n",
    "    fit = filter(myFunc, text)\n",
    "    for x in fit:\n",
    "        dkk.append(x)\n",
    "    return dkk               \n",
    "data['stopword_removal'] = data['tokenizing'].apply(stopword_removal)\n",
    "data.to_excel('data/ganjar_preprocessing.xlsx')\n",
    "data.head()"
   ]
  },
  {
   "cell_type": "code",
   "execution_count": 5,
   "metadata": {},
   "outputs": [],
   "source": [
    "data = data[['stopword_removal', 'sentiment']]\n",
    "data.rename(columns={'stopword_removal':'text'}, inplace=True)\n",
    "data.to_csv('data/dataGanjar.csv', index=False)"
   ]
  },
  {
   "cell_type": "markdown",
   "metadata": {},
   "source": [
    "TRAINING MULTINOMIAL NAIVE BAYES CLASSIFIER"
   ]
  },
  {
   "cell_type": "code",
   "execution_count": 8,
   "metadata": {},
   "outputs": [
    {
     "name": "stdout",
     "output_type": "stream",
     "text": [
      "Accuracy: 0.9328358208955224\n",
      "Classification Report:\n",
      "              precision    recall  f1-score   support\n",
      "\n",
      "     negatif       0.00      0.00      0.00         2\n",
      "      netral       0.94      0.99      0.97       126\n",
      "     positif       0.00      0.00      0.00         6\n",
      "\n",
      "    accuracy                           0.93       134\n",
      "   macro avg       0.31      0.33      0.32       134\n",
      "weighted avg       0.88      0.93      0.91       134\n",
      "\n"
     ]
    },
    {
     "name": "stderr",
     "output_type": "stream",
     "text": [
      "c:\\Users\\Angga\\anaconda3\\envs\\skripsienv\\Lib\\site-packages\\sklearn\\metrics\\_classification.py:1344: UndefinedMetricWarning: Precision and F-score are ill-defined and being set to 0.0 in labels with no predicted samples. Use `zero_division` parameter to control this behavior.\n",
      "  _warn_prf(average, modifier, msg_start, len(result))\n",
      "c:\\Users\\Angga\\anaconda3\\envs\\skripsienv\\Lib\\site-packages\\sklearn\\metrics\\_classification.py:1344: UndefinedMetricWarning: Precision and F-score are ill-defined and being set to 0.0 in labels with no predicted samples. Use `zero_division` parameter to control this behavior.\n",
      "  _warn_prf(average, modifier, msg_start, len(result))\n",
      "c:\\Users\\Angga\\anaconda3\\envs\\skripsienv\\Lib\\site-packages\\sklearn\\metrics\\_classification.py:1344: UndefinedMetricWarning: Precision and F-score are ill-defined and being set to 0.0 in labels with no predicted samples. Use `zero_division` parameter to control this behavior.\n",
      "  _warn_prf(average, modifier, msg_start, len(result))\n"
     ]
    },
    {
     "data": {
      "image/png": "[encoded data removed]",
      "text/plain": [
       "<Figure size 800x800 with 2 Axes>"
      ]
     },
     "metadata": {},
     "output_type": "display_data"
    },
    {
     "data": {
      "text/plain": [
       "Text(0.5, 1.0, 'Hasil Prediksi')"
      ]
     },
     "execution_count": 8,
     "metadata": {},
     "output_type": "execute_result"
    },
    {
     "data": {
      "image/png": "[encoded data removed]",
      "text/plain": [
       "<Figure size 640x480 with 1 Axes>"
      ]
     },
     "metadata": {},
     "output_type": "display_data"
    }
   ],
   "source": [
    "# Baca data dari file CSV\n",
    "df = pd.read_csv('data/dataGanjar.csv')\n",
    "df = df[['text', 'sentiment']]\n",
    "\n",
    "# Bagi data menjadi data latih dan data uji\n",
    "X = df['text']\n",
    "y = df['sentiment']\n",
    "X_train, X_test, y_train, y_test = train_test_split(X, y, test_size=0.2, random_state=42)\n",
    "\n",
    "# Ekstraksi fitur menggunakan CountVectorizer\n",
    "vectorizer = CountVectorizer()\n",
    "X_train = vectorizer.fit_transform(X_train)\n",
    "X_test = vectorizer.transform(X_test)\n",
    "\n",
    "# Melatih model dengan Naive Bayes Classifier\n",
    "clf = MultinomialNB()\n",
    "clf.fit(X_train, y_train)\n",
    "\n",
    "# Melakukan prediksi\n",
    "y_pred = clf.predict(X_test)\n",
    "\n",
    "# Menampilkan hasil\n",
    "print(\"Accuracy:\", accuracy_score(y_test, y_pred))\n",
    "\n",
    "# Menampilkan classification report\n",
    "print(\"Classification Report:\")\n",
    "print(classification_report(y_test, y_pred))\n",
    "\n",
    "\n",
    "import matplotlib.pyplot as plt\n",
    "import seaborn as sns\n",
    "from sklearn.metrics import confusion_matrix\n",
    "cm = confusion_matrix(y_test, y_pred)\n",
    "plt.figure(figsize=(8, 8))\n",
    "sns.heatmap(cm, annot=True, fmt=\".0f\", linewidths=.5, square=True, cmap='Blues_r')\n",
    "plt.ylabel('Actual Label')\n",
    "plt.xlabel('Predicted Label')\n",
    "plt.title('Accuracy Score: {0}'.format(accuracy_score(y_test, y_pred)), size=15)\n",
    "plt.show()\n",
    "\n",
    "\n",
    "# visualisasikan grafik jumlah hasil prediksi negatif, positif, dan netral yang diprediksi benar menggunakan diagram batang\n",
    "import matplotlib.pyplot as plt\n",
    "import pandas as pd\n",
    "count_Class = pd.value_counts(y_pred, sort=True)\n",
    "ax = count_Class.plot(kind='bar', color=[\"green\", \"yellow\", \"red\"])\n",
    "# Menambahkan teks jumlah di atas masing-masing batang\n",
    "for i, v in enumerate(count_Class):\n",
    "    ax.text(i, v, str(v), ha='center', va='bottom')\n",
    "plt.title('Hasil Prediksi')\n",
    "\n",
    "\n"
   ]
  }
 ],
 "metadata": {
  "kernelspec": {
   "display_name": "skripsienv",
   "language": "python",
   "name": "python3"
  },
  "language_info": {
   "codemirror_mode": {
    "name": "ipython",
    "version": 3
   },
   "file_extension": ".py",
   "mimetype": "text/x-python",
   "name": "python",
   "nbconvert_exporter": "python",
   "pygments_lexer": "ipython3",
   "version": "3.11.3"
  }
 },
 "nbformat": 4,
 "nbformat_minor": 2
}
