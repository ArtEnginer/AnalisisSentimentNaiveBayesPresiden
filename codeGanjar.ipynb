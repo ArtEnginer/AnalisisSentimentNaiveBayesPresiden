{
 "cells": [
  {
   "cell_type": "code",
   "execution_count": 1,
   "metadata": {},
   "outputs": [
    {
     "name": "stderr",
     "output_type": "stream",
     "text": [
      "[nltk_data] Downloading package vader_lexicon to\n",
      "[nltk_data]     C:\\Users\\Angga\\AppData\\Roaming\\nltk_data...\n",
      "[nltk_data]   Package vader_lexicon is already up-to-date!\n",
      "[nltk_data] Downloading package stopwords to\n",
      "[nltk_data]     C:\\Users\\Angga\\AppData\\Roaming\\nltk_data...\n",
      "[nltk_data]   Package stopwords is already up-to-date!\n"
     ]
    },
    {
     "data": {
      "text/plain": [
       "True"
      ]
     },
     "execution_count": 1,
     "metadata": {},
     "output_type": "execute_result"
    }
   ],
   "source": [
    "import numpy as np\n",
    "import pandas as pd\n",
    "from sklearn.model_selection import train_test_split\n",
    "from sklearn.feature_extraction.text import CountVectorizer\n",
    "from sklearn.naive_bayes import MultinomialNB\n",
    "from sklearn.metrics import accuracy_score, classification_report\n",
    "import re\n",
    "import string\n",
    "import nltk\n",
    "from nltk.sentiment.vader import SentimentIntensityAnalyzer\n",
    "from nltk.corpus import stopwords\n",
    "nltk.download(\"vader_lexicon\")\n",
    "nltk.download('stopwords')"
   ]
  },
  {
   "cell_type": "markdown",
   "metadata": {},
   "source": [
    "LABELLING USING LEXICON BASED APPROACH"
   ]
  },
  {
   "cell_type": "code",
   "execution_count": 2,
   "metadata": {},
   "outputs": [
    {
     "data": {
      "text/plain": [
       "sentiment\n",
       "netral     474\n",
       "positif     21\n",
       "negatif     14\n",
       "Name: count, dtype: int64"
      ]
     },
     "execution_count": 2,
     "metadata": {},
     "output_type": "execute_result"
    }
   ],
   "source": [
    "\n",
    "# Baca data dari file Excel dan gabungkan\n",
    "data = pd.read_excel('dataset/ganjar.xlsx')\n",
    "data = data[['full_text']]\n",
    "\n",
    "sentiments = SentimentIntensityAnalyzer()\n",
    "data[\"Positive\"] = [sentiments.polarity_scores(i)[\"pos\"] for i in data[\"full_text\"]]\n",
    "data[\"Negative\"] = [sentiments.polarity_scores(i)[\"neg\"] for i in data[\"full_text\"]]\n",
    "data[\"Neutral\"] = [sentiments.polarity_scores(i)[\"neu\"] for i in data[\"full_text\"]]\n",
    "data[\"Compound\"] = [sentiments.polarity_scores(i)[\"compound\"] for i in data[\"full_text\"]]\n",
    "\n",
    "score= data[\"Compound\"].values\n",
    "sentiment = []\n",
    "for i in score:\n",
    "  if i >= 0.05:\n",
    "    sentiment.append('positif')\n",
    "  elif i <= -0.05 :\n",
    "    sentiment.append('negatif')\n",
    "  else:\n",
    "    sentiment.append('netral')\n",
    "data[\"sentiment\"] = sentiment\n",
    "\n",
    "data = data[['full_text', 'sentiment']]\n",
    "\n",
    "data['sentiment'].value_counts()"
   ]
  },
  {
   "cell_type": "code",
   "execution_count": 3,
   "metadata": {},
   "outputs": [],
   "source": [
    "data['casefolding'] = data['full_text'].str.lower()\n",
    "\n",
    "def clean_text(text):\n",
    "    text = re.sub(r'@[A-Za-z0-9]+', '', text) # menghapus @..\n",
    "    text = re.sub(r'#', '', text) # menghapus hashtag\n",
    "    text = re.sub(r'RT[\\s]+', '', text) # menghapus RT\n",
    "    text = re.sub(r'https?:\\/\\/\\S+', '', text) # menghapus url\n",
    "    text = re.sub(r':\\)', '', text) # menghapus icon\n",
    "    text = re.sub(r\"\\s+[a-zA-Z]\\s+\", ' ', text) # menghapus single character\n",
    "    text = re.sub(r'\\s+', ' ', text) # menghapus spasi ganda\n",
    "    text = re.sub(r'[^\\w\\s]', '', text) # menghapus punctuation\n",
    "    text = re.sub(r'\\.+', '', text) #menghilangkan teks yang mengandung akhiran MULTIPLE TITIK (...)\n",
    "    text = re.sub(r'\\d+', '', text) #menghilangkan teks yang mengandung angka\n",
    "    text = re.sub(r'\\b\\w{1,2}\\b', '', text) #menghilangkan teks yang mengandung 1-2 huru\n",
    "    text = text.translate(str.maketrans('', '', string.punctuation))\n",
    "    text = text.encode('ascii', 'ignore').decode('ascii') # menghapus non-ascii (EMOTICON)\n",
    "    return text\n",
    "\n",
    "data['cleansing'] = data['casefolding'].apply(clean_text)\n",
    "# delete row with null value\n",
    "data = data.dropna()\n",
    "# menghapus row yang memiliki nilai text kosong\n",
    "data = data[data['cleansing'] != '']\n",
    "data.reset_index(drop=True, inplace = True)\n",
    "# Menghapus text duplikat\n",
    "data.cleansing.duplicated().sum()\n",
    "data.loc[data.cleansing.duplicated(), :]\n",
    "data.drop_duplicates(subset=['cleansing'], inplace=True)\n",
    "data.reset_index(drop=True, inplace = True)\n",
    "                \n",
    "#TOKENIZING\n",
    "def tokenizing(text):\n",
    "    nstr = text.split(' ')\n",
    "    md= []\n",
    "    a = -1\n",
    "    for hu in nstr:\n",
    "        a = a + 1\n",
    "    if hu == '':\n",
    "        md.append(a)\n",
    "    p = 0\n",
    "    b = 0\n",
    "    for q in md:\n",
    "        b = q - p\n",
    "        del nstr[b]\n",
    "        p = p + 1\n",
    "    return nstr\n",
    "    \n",
    "data['tokenizing'] = data['cleansing'].apply(tokenizing)\n",
    "\n",
    "def stopword_removal(text):\n",
    "    factory = stopwords.words('indonesian', 'english')\n",
    "    x = []\n",
    "    dkk = []\n",
    "    def myFunc(x):\n",
    "        if x in factory:\n",
    "            return False\n",
    "        else:\n",
    "            return True\n",
    "    fit = filter(myFunc, text)\n",
    "    for x in fit:\n",
    "        dkk.append(x)\n",
    "    return dkk               \n",
    "data['stopword_removal'] = data['tokenizing'].apply(stopword_removal)\n",
    "\n",
    "from nltk.stem import PorterStemmer\n",
    "from Sastrawi.Stemmer.StemmerFactory import StemmerFactory\n",
    "\n",
    "# Fungsi untuk stemming\n",
    "def stemming(text):\n",
    "    # Inisialisasi stemmer untuk bahasa Indonesia\n",
    "    factory = StemmerFactory()\n",
    "    stemmer = factory.create_stemmer()\n",
    "    \n",
    "    # Stem setiap kata dalam teks\n",
    "    stemmed_text = [stemmer.stem(word) for word in text]\n",
    "    \n",
    "    return stemmed_text\n",
    "\n",
    "  \n",
    "data['stemming']= data['stopword_removal'].apply(stemming)\n",
    "data.head()"
   ]
  },
  {
   "cell_type": "code",
   "execution_count": null,
   "metadata": {},
   "outputs": [],
   "source": [
    "data = data[['stemming', 'sentiment']]\n",
    "data.rename(columns={'stemming':'text'}, inplace=True)\n",
    "data.to_csv('data/dataGanjar.csv', index=False)"
   ]
  },
  {
   "cell_type": "markdown",
   "metadata": {},
   "source": [
    "TRAINING MULTINOMIAL NAIVE BAYES CLASSIFIER"
   ]
  },
  {
   "cell_type": "code",
   "execution_count": null,
   "metadata": {},
   "outputs": [
    {
     "name": "stdout",
     "output_type": "stream",
     "text": [
      "Accuracy: 0.9197530864197531\n",
      "Classification Report:\n",
      "              precision    recall  f1-score   support\n",
      "\n",
      "     negatif       0.33      0.11      0.17         9\n",
      "      netral       0.93      0.99      0.96       299\n",
      "     positif       0.50      0.06      0.11        16\n",
      "\n",
      "    accuracy                           0.92       324\n",
      "   macro avg       0.59      0.39      0.41       324\n",
      "weighted avg       0.89      0.92      0.89       324\n",
      "\n"
     ]
    }
   ],
   "source": [
    "# Baca data dari file CSV\n",
    "df = pd.read_csv('data/dataGanjar.csv')\n",
    "df = df[['text', 'sentiment']]\n",
    "\n",
    "# Bagi data menjadi data latih dan data uji\n",
    "X = df['text']\n",
    "y = df['sentiment']\n",
    "X_train, X_test, y_train, y_test = train_test_split(X, y, test_size=0.2, random_state=0)\n",
    "\n",
    "# Ekstraksi fitur menggunakan CountVectorizer\n",
    "vectorizer = CountVectorizer()\n",
    "X_train = vectorizer.fit_transform(X_train)\n",
    "X_test = vectorizer.transform(X_test)\n",
    "\n",
    "# Melatih model dengan Naive Bayes Classifier\n",
    "clf = MultinomialNB()\n",
    "clf.fit(X_train, y_train)\n",
    "\n",
    "# Melakukan prediksi\n",
    "y_pred = clf.predict(X_test)\n",
    "\n",
    "# Menampilkan hasil\n",
    "print(\"Accuracy:\", accuracy_score(y_test, y_pred))\n",
    "\n",
    "# Menampilkan classification report\n",
    "print(\"Classification Report:\")\n",
    "print(classification_report(y_test, y_pred))\n",
    "\n"
   ]
  }
 ],
 "metadata": {
  "kernelspec": {
   "display_name": "skripsienv",
   "language": "python",
   "name": "python3"
  },
  "language_info": {
   "codemirror_mode": {
    "name": "ipython",
    "version": 3
   },
   "file_extension": ".py",
   "mimetype": "text/x-python",
   "name": "python",
   "nbconvert_exporter": "python",
   "pygments_lexer": "ipython3",
   "version": "3.11.3"
  }
 },
 "nbformat": 4,
 "nbformat_minor": 2
}
