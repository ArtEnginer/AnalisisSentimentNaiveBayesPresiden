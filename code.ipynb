{
 "cells": [
  {
   "cell_type": "code",
   "execution_count": 85,
   "metadata": {},
   "outputs": [
    {
     "name": "stderr",
     "output_type": "stream",
     "text": [
      "[nltk_data] Downloading package vader_lexicon to\n",
      "[nltk_data]     C:\\Users\\Angga\\AppData\\Roaming\\nltk_data...\n",
      "[nltk_data]   Package vader_lexicon is already up-to-date!\n",
      "[nltk_data] Downloading package stopwords to\n",
      "[nltk_data]     C:\\Users\\Angga\\AppData\\Roaming\\nltk_data...\n",
      "[nltk_data]   Package stopwords is already up-to-date!\n"
     ]
    },
    {
     "data": {
      "text/plain": [
       "True"
      ]
     },
     "execution_count": 85,
     "metadata": {},
     "output_type": "execute_result"
    }
   ],
   "source": [
    "import numpy as np\n",
    "import pandas as pd\n",
    "from sklearn.model_selection import train_test_split\n",
    "from sklearn.feature_extraction.text import CountVectorizer\n",
    "from sklearn.naive_bayes import MultinomialNB\n",
    "from sklearn.metrics import accuracy_score, classification_report\n",
    "import re\n",
    "import string\n",
    "import nltk\n",
    "from nltk.sentiment.vader import SentimentIntensityAnalyzer\n",
    "from nltk.corpus import stopwords\n",
    "nltk.download(\"vader_lexicon\")\n",
    "nltk.download('stopwords')"
   ]
  },
  {
   "cell_type": "markdown",
   "metadata": {},
   "source": [
    "LABELLING USING LEXICON BASED APPROACH"
   ]
  },
  {
   "cell_type": "code",
   "execution_count": 86,
   "metadata": {},
   "outputs": [
    {
     "data": {
      "text/plain": [
       "sentiment\n",
       "netral     1626\n",
       "positif      86\n",
       "negatif      42\n",
       "Name: count, dtype: int64"
      ]
     },
     "execution_count": 86,
     "metadata": {},
     "output_type": "execute_result"
    }
   ],
   "source": [
    "\n",
    "# Baca data dari file Excel dan gabungkan\n",
    "dataAnis = pd.read_excel('dataset/anies.xlsx')\n",
    "dataPrabowo = pd.read_excel('dataset/prabowo.xlsx')\n",
    "dataGanjar = pd.read_excel('dataset/ganjar.xlsx')\n",
    "data = pd.concat([dataAnis, dataPrabowo, dataGanjar])\n",
    "\n",
    "data = data[['full_text']]\n",
    "\n",
    "sentiments = SentimentIntensityAnalyzer()\n",
    "data[\"Positive\"] = [sentiments.polarity_scores(i)[\"pos\"] for i in data[\"full_text\"]]\n",
    "data[\"Negative\"] = [sentiments.polarity_scores(i)[\"neg\"] for i in data[\"full_text\"]]\n",
    "data[\"Neutral\"] = [sentiments.polarity_scores(i)[\"neu\"] for i in data[\"full_text\"]]\n",
    "data[\"Compound\"] = [sentiments.polarity_scores(i)[\"compound\"] for i in data[\"full_text\"]]\n",
    "\n",
    "score= data[\"Compound\"].values\n",
    "sentiment = []\n",
    "for i in score:\n",
    "  if i >= 0.05:\n",
    "    sentiment.append('positif')\n",
    "  elif i <= -0.05 :\n",
    "    sentiment.append('negatif')\n",
    "  else:\n",
    "    sentiment.append('netral')\n",
    "data[\"sentiment\"] = sentiment\n",
    "\n",
    "data = data[['full_text', 'sentiment']]\n",
    "\n",
    "data['sentiment'].value_counts()"
   ]
  },
  {
   "cell_type": "code",
   "execution_count": 88,
   "metadata": {},
   "outputs": [
    {
     "ename": "KeyboardInterrupt",
     "evalue": "",
     "output_type": "error",
     "traceback": [
      "\u001b[1;31m---------------------------------------------------------------------------\u001b[0m",
      "\u001b[1;31mKeyboardInterrupt\u001b[0m                         Traceback (most recent call last)",
      "\u001b[1;32md:\\PROYEK\\Skripsi Gopar\\code.ipynb Cell 4\u001b[0m line \u001b[0;36m8\n\u001b[0;32m     <a href='vscode-notebook-cell:/d%3A/PROYEK/Skripsi%20Gopar/code.ipynb#W5sZmlsZQ%3D%3D?line=74'>75</a>\u001b[0m     stemmed_text \u001b[39m=\u001b[39m [stemmer\u001b[39m.\u001b[39mstem(word) \u001b[39mfor\u001b[39;00m word \u001b[39min\u001b[39;00m text]\n\u001b[0;32m     <a href='vscode-notebook-cell:/d%3A/PROYEK/Skripsi%20Gopar/code.ipynb#W5sZmlsZQ%3D%3D?line=76'>77</a>\u001b[0m     \u001b[39mreturn\u001b[39;00m stemmed_text\n\u001b[1;32m---> <a href='vscode-notebook-cell:/d%3A/PROYEK/Skripsi%20Gopar/code.ipynb#W5sZmlsZQ%3D%3D?line=79'>80</a>\u001b[0m data[\u001b[39m'\u001b[39m\u001b[39mstemming\u001b[39m\u001b[39m'\u001b[39m]\u001b[39m=\u001b[39m data[\u001b[39m'\u001b[39;49m\u001b[39mstopword_removal\u001b[39;49m\u001b[39m'\u001b[39;49m]\u001b[39m.\u001b[39;49mapply(stemming)\n\u001b[0;32m     <a href='vscode-notebook-cell:/d%3A/PROYEK/Skripsi%20Gopar/code.ipynb#W5sZmlsZQ%3D%3D?line=80'>81</a>\u001b[0m data\u001b[39m.\u001b[39mhead()\n",
      "File \u001b[1;32mc:\\Users\\Angga\\anaconda3\\envs\\skripsienv\\Lib\\site-packages\\pandas\\core\\series.py:4631\u001b[0m, in \u001b[0;36mSeries.apply\u001b[1;34m(self, func, convert_dtype, args, **kwargs)\u001b[0m\n\u001b[0;32m   4521\u001b[0m \u001b[39mdef\u001b[39;00m \u001b[39mapply\u001b[39m(\n\u001b[0;32m   4522\u001b[0m     \u001b[39mself\u001b[39m,\n\u001b[0;32m   4523\u001b[0m     func: AggFuncType,\n\u001b[1;32m   (...)\u001b[0m\n\u001b[0;32m   4526\u001b[0m     \u001b[39m*\u001b[39m\u001b[39m*\u001b[39mkwargs,\n\u001b[0;32m   4527\u001b[0m ) \u001b[39m-\u001b[39m\u001b[39m>\u001b[39m DataFrame \u001b[39m|\u001b[39m Series:\n\u001b[0;32m   4528\u001b[0m \u001b[39m    \u001b[39m\u001b[39m\"\"\"\u001b[39;00m\n\u001b[0;32m   4529\u001b[0m \u001b[39m    Invoke function on values of Series.\u001b[39;00m\n\u001b[0;32m   4530\u001b[0m \n\u001b[1;32m   (...)\u001b[0m\n\u001b[0;32m   4629\u001b[0m \u001b[39m    dtype: float64\u001b[39;00m\n\u001b[0;32m   4630\u001b[0m \u001b[39m    \"\"\"\u001b[39;00m\n\u001b[1;32m-> 4631\u001b[0m     \u001b[39mreturn\u001b[39;00m SeriesApply(\u001b[39mself\u001b[39;49m, func, convert_dtype, args, kwargs)\u001b[39m.\u001b[39;49mapply()\n",
      "File \u001b[1;32mc:\\Users\\Angga\\anaconda3\\envs\\skripsienv\\Lib\\site-packages\\pandas\\core\\apply.py:1025\u001b[0m, in \u001b[0;36mSeriesApply.apply\u001b[1;34m(self)\u001b[0m\n\u001b[0;32m   1022\u001b[0m     \u001b[39mreturn\u001b[39;00m \u001b[39mself\u001b[39m\u001b[39m.\u001b[39mapply_str()\n\u001b[0;32m   1024\u001b[0m \u001b[39m# self.f is Callable\u001b[39;00m\n\u001b[1;32m-> 1025\u001b[0m \u001b[39mreturn\u001b[39;00m \u001b[39mself\u001b[39;49m\u001b[39m.\u001b[39;49mapply_standard()\n",
      "File \u001b[1;32mc:\\Users\\Angga\\anaconda3\\envs\\skripsienv\\Lib\\site-packages\\pandas\\core\\apply.py:1076\u001b[0m, in \u001b[0;36mSeriesApply.apply_standard\u001b[1;34m(self)\u001b[0m\n\u001b[0;32m   1074\u001b[0m     \u001b[39melse\u001b[39;00m:\n\u001b[0;32m   1075\u001b[0m         values \u001b[39m=\u001b[39m obj\u001b[39m.\u001b[39mastype(\u001b[39mobject\u001b[39m)\u001b[39m.\u001b[39m_values\n\u001b[1;32m-> 1076\u001b[0m         mapped \u001b[39m=\u001b[39m lib\u001b[39m.\u001b[39;49mmap_infer(\n\u001b[0;32m   1077\u001b[0m             values,\n\u001b[0;32m   1078\u001b[0m             f,\n\u001b[0;32m   1079\u001b[0m             convert\u001b[39m=\u001b[39;49m\u001b[39mself\u001b[39;49m\u001b[39m.\u001b[39;49mconvert_dtype,\n\u001b[0;32m   1080\u001b[0m         )\n\u001b[0;32m   1082\u001b[0m \u001b[39mif\u001b[39;00m \u001b[39mlen\u001b[39m(mapped) \u001b[39mand\u001b[39;00m \u001b[39misinstance\u001b[39m(mapped[\u001b[39m0\u001b[39m], ABCSeries):\n\u001b[0;32m   1083\u001b[0m     \u001b[39m# GH#43986 Need to do list(mapped) in order to get treated as nested\u001b[39;00m\n\u001b[0;32m   1084\u001b[0m     \u001b[39m#  See also GH#25959 regarding EA support\u001b[39;00m\n\u001b[0;32m   1085\u001b[0m     \u001b[39mreturn\u001b[39;00m obj\u001b[39m.\u001b[39m_constructor_expanddim(\u001b[39mlist\u001b[39m(mapped), index\u001b[39m=\u001b[39mobj\u001b[39m.\u001b[39mindex)\n",
      "File \u001b[1;32mc:\\Users\\Angga\\anaconda3\\envs\\skripsienv\\Lib\\site-packages\\pandas\\_libs\\lib.pyx:2834\u001b[0m, in \u001b[0;36mpandas._libs.lib.map_infer\u001b[1;34m()\u001b[0m\n",
      "\u001b[1;32md:\\PROYEK\\Skripsi Gopar\\code.ipynb Cell 4\u001b[0m line \u001b[0;36m7\n\u001b[0;32m     <a href='vscode-notebook-cell:/d%3A/PROYEK/Skripsi%20Gopar/code.ipynb#W5sZmlsZQ%3D%3D?line=71'>72</a>\u001b[0m stemmer \u001b[39m=\u001b[39m factory\u001b[39m.\u001b[39mcreate_stemmer()\n\u001b[0;32m     <a href='vscode-notebook-cell:/d%3A/PROYEK/Skripsi%20Gopar/code.ipynb#W5sZmlsZQ%3D%3D?line=73'>74</a>\u001b[0m \u001b[39m# Stem setiap kata dalam teks\u001b[39;00m\n\u001b[1;32m---> <a href='vscode-notebook-cell:/d%3A/PROYEK/Skripsi%20Gopar/code.ipynb#W5sZmlsZQ%3D%3D?line=74'>75</a>\u001b[0m stemmed_text \u001b[39m=\u001b[39m [stemmer\u001b[39m.\u001b[39;49mstem(word) \u001b[39mfor\u001b[39;49;00m word \u001b[39min\u001b[39;49;00m text]\n\u001b[0;32m     <a href='vscode-notebook-cell:/d%3A/PROYEK/Skripsi%20Gopar/code.ipynb#W5sZmlsZQ%3D%3D?line=76'>77</a>\u001b[0m \u001b[39mreturn\u001b[39;00m stemmed_text\n",
      "\u001b[1;32md:\\PROYEK\\Skripsi Gopar\\code.ipynb Cell 4\u001b[0m line \u001b[0;36m7\n\u001b[0;32m     <a href='vscode-notebook-cell:/d%3A/PROYEK/Skripsi%20Gopar/code.ipynb#W5sZmlsZQ%3D%3D?line=71'>72</a>\u001b[0m stemmer \u001b[39m=\u001b[39m factory\u001b[39m.\u001b[39mcreate_stemmer()\n\u001b[0;32m     <a href='vscode-notebook-cell:/d%3A/PROYEK/Skripsi%20Gopar/code.ipynb#W5sZmlsZQ%3D%3D?line=73'>74</a>\u001b[0m \u001b[39m# Stem setiap kata dalam teks\u001b[39;00m\n\u001b[1;32m---> <a href='vscode-notebook-cell:/d%3A/PROYEK/Skripsi%20Gopar/code.ipynb#W5sZmlsZQ%3D%3D?line=74'>75</a>\u001b[0m stemmed_text \u001b[39m=\u001b[39m [stemmer\u001b[39m.\u001b[39;49mstem(word) \u001b[39mfor\u001b[39;00m word \u001b[39min\u001b[39;00m text]\n\u001b[0;32m     <a href='vscode-notebook-cell:/d%3A/PROYEK/Skripsi%20Gopar/code.ipynb#W5sZmlsZQ%3D%3D?line=76'>77</a>\u001b[0m \u001b[39mreturn\u001b[39;00m stemmed_text\n",
      "File \u001b[1;32mc:\\Users\\Angga\\anaconda3\\envs\\skripsienv\\Lib\\site-packages\\Sastrawi\\Stemmer\\CachedStemmer.py:20\u001b[0m, in \u001b[0;36mCachedStemmer.stem\u001b[1;34m(self, text)\u001b[0m\n\u001b[0;32m     18\u001b[0m     stems\u001b[39m.\u001b[39mappend(\u001b[39mself\u001b[39m\u001b[39m.\u001b[39mcache\u001b[39m.\u001b[39mget(word))\n\u001b[0;32m     19\u001b[0m \u001b[39melse\u001b[39;00m:\n\u001b[1;32m---> 20\u001b[0m     stem \u001b[39m=\u001b[39m \u001b[39mself\u001b[39;49m\u001b[39m.\u001b[39;49mdelegatedStemmer\u001b[39m.\u001b[39;49mstem(word)\n\u001b[0;32m     21\u001b[0m     \u001b[39mself\u001b[39m\u001b[39m.\u001b[39mcache\u001b[39m.\u001b[39mset(word, stem)\n\u001b[0;32m     22\u001b[0m     stems\u001b[39m.\u001b[39mappend(stem)\n",
      "File \u001b[1;32mc:\\Users\\Angga\\anaconda3\\envs\\skripsienv\\Lib\\site-packages\\Sastrawi\\Stemmer\\Stemmer.py:27\u001b[0m, in \u001b[0;36mStemmer.stem\u001b[1;34m(self, text)\u001b[0m\n\u001b[0;32m     24\u001b[0m stems \u001b[39m=\u001b[39m []\n\u001b[0;32m     26\u001b[0m \u001b[39mfor\u001b[39;00m word \u001b[39min\u001b[39;00m words:\n\u001b[1;32m---> 27\u001b[0m     stems\u001b[39m.\u001b[39mappend(\u001b[39mself\u001b[39;49m\u001b[39m.\u001b[39;49mstem_word(word))\n\u001b[0;32m     29\u001b[0m \u001b[39mreturn\u001b[39;00m \u001b[39m'\u001b[39m\u001b[39m \u001b[39m\u001b[39m'\u001b[39m\u001b[39m.\u001b[39mjoin(stems)\n",
      "File \u001b[1;32mc:\\Users\\Angga\\anaconda3\\envs\\skripsienv\\Lib\\site-packages\\Sastrawi\\Stemmer\\Stemmer.py:36\u001b[0m, in \u001b[0;36mStemmer.stem_word\u001b[1;34m(self, word)\u001b[0m\n\u001b[0;32m     34\u001b[0m     \u001b[39mreturn\u001b[39;00m \u001b[39mself\u001b[39m\u001b[39m.\u001b[39mstem_plural_word(word)\n\u001b[0;32m     35\u001b[0m \u001b[39melse\u001b[39;00m:\n\u001b[1;32m---> 36\u001b[0m     \u001b[39mreturn\u001b[39;00m \u001b[39mself\u001b[39;49m\u001b[39m.\u001b[39;49mstem_singular_word(word)\n",
      "File \u001b[1;32mc:\\Users\\Angga\\anaconda3\\envs\\skripsienv\\Lib\\site-packages\\Sastrawi\\Stemmer\\Stemmer.py:84\u001b[0m, in \u001b[0;36mStemmer.stem_singular_word\u001b[1;34m(self, word)\u001b[0m\n\u001b[0;32m     82\u001b[0m \u001b[39m\u001b[39m\u001b[39m\"\"\"Stem a singular word to its common stem form.\"\"\"\u001b[39;00m\n\u001b[0;32m     83\u001b[0m context \u001b[39m=\u001b[39m Context(word, \u001b[39mself\u001b[39m\u001b[39m.\u001b[39mdictionary, \u001b[39mself\u001b[39m\u001b[39m.\u001b[39mvisitor_provider)\n\u001b[1;32m---> 84\u001b[0m context\u001b[39m.\u001b[39;49mexecute()\n\u001b[0;32m     86\u001b[0m \u001b[39mreturn\u001b[39;00m context\u001b[39m.\u001b[39mresult\n",
      "File \u001b[1;32mc:\\Users\\Angga\\anaconda3\\envs\\skripsienv\\Lib\\site-packages\\Sastrawi\\Stemmer\\Context\\Context.py:37\u001b[0m, in \u001b[0;36mContext.execute\u001b[1;34m(self)\u001b[0m\n\u001b[0;32m     34\u001b[0m \u001b[39m\u001b[39m\u001b[39m\"\"\"Execute stemming process; the result can be retrieved with result\"\"\"\u001b[39;00m\n\u001b[0;32m     36\u001b[0m \u001b[39m#step 1 - 5\u001b[39;00m\n\u001b[1;32m---> 37\u001b[0m \u001b[39mself\u001b[39;49m\u001b[39m.\u001b[39;49mstart_stemming_process()\n\u001b[0;32m     39\u001b[0m \u001b[39m#step 6\u001b[39;00m\n\u001b[0;32m     40\u001b[0m \u001b[39mif\u001b[39;00m \u001b[39mself\u001b[39m\u001b[39m.\u001b[39mdictionary\u001b[39m.\u001b[39mcontains(\u001b[39mself\u001b[39m\u001b[39m.\u001b[39mcurrent_word):\n",
      "File \u001b[1;32mc:\\Users\\Angga\\anaconda3\\envs\\skripsienv\\Lib\\site-packages\\Sastrawi\\Stemmer\\Context\\Context.py:80\u001b[0m, in \u001b[0;36mContext.start_stemming_process\u001b[1;34m(self)\u001b[0m\n\u001b[0;32m     77\u001b[0m     \u001b[39mreturn\u001b[39;00m\n\u001b[0;32m     79\u001b[0m \u001b[39m#step 4, 5\u001b[39;00m\n\u001b[1;32m---> 80\u001b[0m \u001b[39mself\u001b[39;49m\u001b[39m.\u001b[39;49mremove_prefixes()\n\u001b[0;32m     81\u001b[0m \u001b[39mif\u001b[39;00m \u001b[39mself\u001b[39m\u001b[39m.\u001b[39mdictionary\u001b[39m.\u001b[39mcontains(\u001b[39mself\u001b[39m\u001b[39m.\u001b[39mcurrent_word):\n\u001b[0;32m     82\u001b[0m     \u001b[39mreturn\u001b[39;00m\n",
      "File \u001b[1;32mc:\\Users\\Angga\\anaconda3\\envs\\skripsienv\\Lib\\site-packages\\Sastrawi\\Stemmer\\Context\\Context.py:89\u001b[0m, in \u001b[0;36mContext.remove_prefixes\u001b[1;34m(self)\u001b[0m\n\u001b[0;32m     87\u001b[0m \u001b[39mdef\u001b[39;00m \u001b[39mremove_prefixes\u001b[39m(\u001b[39mself\u001b[39m):\n\u001b[0;32m     88\u001b[0m     \u001b[39mfor\u001b[39;00m i \u001b[39min\u001b[39;00m \u001b[39mrange\u001b[39m(\u001b[39m3\u001b[39m):\n\u001b[1;32m---> 89\u001b[0m         \u001b[39mself\u001b[39;49m\u001b[39m.\u001b[39;49maccept_prefix_visitors(\u001b[39mself\u001b[39;49m\u001b[39m.\u001b[39;49mprefix_pisitors)\n\u001b[0;32m     90\u001b[0m         \u001b[39mif\u001b[39;00m \u001b[39mself\u001b[39m\u001b[39m.\u001b[39mdictionary\u001b[39m.\u001b[39mcontains(\u001b[39mself\u001b[39m\u001b[39m.\u001b[39mcurrent_word):\n\u001b[0;32m     91\u001b[0m             \u001b[39mreturn\u001b[39;00m\n",
      "File \u001b[1;32mc:\\Users\\Angga\\anaconda3\\envs\\skripsienv\\Lib\\site-packages\\Sastrawi\\Stemmer\\Context\\Context.py:110\u001b[0m, in \u001b[0;36mContext.accept_prefix_visitors\u001b[1;34m(self, visitors)\u001b[0m\n\u001b[0;32m    108\u001b[0m removalCount \u001b[39m=\u001b[39m \u001b[39mlen\u001b[39m(\u001b[39mself\u001b[39m\u001b[39m.\u001b[39mremovals)\n\u001b[0;32m    109\u001b[0m \u001b[39mfor\u001b[39;00m visitor \u001b[39min\u001b[39;00m visitors:\n\u001b[1;32m--> 110\u001b[0m     \u001b[39mself\u001b[39;49m\u001b[39m.\u001b[39;49maccept(visitor)\n\u001b[0;32m    111\u001b[0m     \u001b[39mif\u001b[39;00m \u001b[39mself\u001b[39m\u001b[39m.\u001b[39mdictionary\u001b[39m.\u001b[39mcontains(\u001b[39mself\u001b[39m\u001b[39m.\u001b[39mcurrent_word):\n\u001b[0;32m    112\u001b[0m         \u001b[39mreturn\u001b[39;00m \u001b[39mself\u001b[39m\u001b[39m.\u001b[39mcurrent_word\n",
      "File \u001b[1;32mc:\\Users\\Angga\\anaconda3\\envs\\skripsienv\\Lib\\site-packages\\Sastrawi\\Stemmer\\Context\\Context.py:96\u001b[0m, in \u001b[0;36mContext.accept\u001b[1;34m(self, visitor)\u001b[0m\n\u001b[0;32m     93\u001b[0m \u001b[39mdef\u001b[39;00m \u001b[39mremove_suffixes\u001b[39m(\u001b[39mself\u001b[39m):\n\u001b[0;32m     94\u001b[0m     \u001b[39mself\u001b[39m\u001b[39m.\u001b[39maccept_visitors(\u001b[39mself\u001b[39m\u001b[39m.\u001b[39msuffix_visitors)\n\u001b[1;32m---> 96\u001b[0m \u001b[39mdef\u001b[39;00m \u001b[39maccept\u001b[39m(\u001b[39mself\u001b[39m, visitor):\n\u001b[0;32m     97\u001b[0m     visitor\u001b[39m.\u001b[39mvisit(\u001b[39mself\u001b[39m)\n\u001b[0;32m     99\u001b[0m \u001b[39mdef\u001b[39;00m \u001b[39maccept_visitors\u001b[39m(\u001b[39mself\u001b[39m, visitors):\n",
      "\u001b[1;31mKeyboardInterrupt\u001b[0m: "
     ]
    }
   ],
   "source": [
    "data['casefolding'] = data['full_text'].str.lower()\n",
    "\n",
    "def clean_text(text):\n",
    "    text = re.sub(r'@[A-Za-z0-9]+', '', text) # menghapus @..\n",
    "    text = re.sub(r'#', '', text) # menghapus hashtag\n",
    "    text = re.sub(r'RT[\\s]+', '', text) # menghapus RT\n",
    "    text = re.sub(r'https?:\\/\\/\\S+', '', text) # menghapus url\n",
    "    text = re.sub(r':\\)', '', text) # menghapus icon\n",
    "    text = re.sub(r\"\\s+[a-zA-Z]\\s+\", ' ', text) # menghapus single character\n",
    "    text = re.sub(r'\\s+', ' ', text) # menghapus spasi ganda\n",
    "    text = re.sub(r'[^\\w\\s]', '', text) # menghapus punctuation\n",
    "    text = re.sub(r'\\.+', '', text) #menghilangkan teks yang mengandung akhiran MULTIPLE TITIK (...)\n",
    "    text = re.sub(r'\\d+', '', text) #menghilangkan teks yang mengandung angka\n",
    "    text = re.sub(r'\\b\\w{1,2}\\b', '', text) #menghilangkan teks yang mengandung 1-2 huru\n",
    "    text = text.translate(str.maketrans('', '', string.punctuation))\n",
    "    text = text.encode('ascii', 'ignore').decode('ascii') # menghapus non-ascii (EMOTICON)\n",
    "    return text\n",
    "\n",
    "data['cleansing'] = data['casefolding'].apply(clean_text)\n",
    "# delete row with null value\n",
    "data = data.dropna()\n",
    "# menghapus row yang memiliki nilai text kosong\n",
    "data = data[data['cleansing'] != '']\n",
    "data.reset_index(drop=True, inplace = True)\n",
    "# Menghapus text duplikat\n",
    "data.cleansing.duplicated().sum()\n",
    "data.loc[data.cleansing.duplicated(), :]\n",
    "data.drop_duplicates(subset=['cleansing'], inplace=True)\n",
    "data.reset_index(drop=True, inplace = True)\n",
    "                \n",
    "#TOKENIZING\n",
    "def tokenizing(text):\n",
    "    nstr = text.split(' ')\n",
    "    md= []\n",
    "    a = -1\n",
    "    for hu in nstr:\n",
    "        a = a + 1\n",
    "    if hu == '':\n",
    "        md.append(a)\n",
    "    p = 0\n",
    "    b = 0\n",
    "    for q in md:\n",
    "        b = q - p\n",
    "        del nstr[b]\n",
    "        p = p + 1\n",
    "    return nstr\n",
    "    \n",
    "data['tokenizing'] = data['cleansing'].apply(tokenizing)\n",
    "\n",
    "def stopword_removal(text):\n",
    "    factory = stopwords.words('indonesian', 'english')\n",
    "    x = []\n",
    "    dkk = []\n",
    "    def myFunc(x):\n",
    "        if x in factory:\n",
    "            return False\n",
    "        else:\n",
    "            return True\n",
    "    fit = filter(myFunc, text)\n",
    "    for x in fit:\n",
    "        dkk.append(x)\n",
    "    return dkk               \n",
    "data['stopword_removal'] = data['tokenizing'].apply(stopword_removal)\n",
    "\n",
    "from nltk.stem import PorterStemmer\n",
    "from Sastrawi.Stemmer.StemmerFactory import StemmerFactory\n",
    "\n",
    "# Fungsi untuk stemming\n",
    "def stemming(text):\n",
    "    # Inisialisasi stemmer untuk bahasa Indonesia\n",
    "    factory = StemmerFactory()\n",
    "    stemmer = factory.create_stemmer()\n",
    "    \n",
    "    # Stem setiap kata dalam teks\n",
    "    stemmed_text = [stemmer.stem(word) for word in text]\n",
    "    \n",
    "    return stemmed_text\n",
    "\n",
    "  \n",
    "data['stemming']= data['stopword_removal'].apply(stemming)\n",
    "data.head()"
   ]
  },
  {
   "cell_type": "code",
   "execution_count": 82,
   "metadata": {},
   "outputs": [],
   "source": [
    "data = data[['stemming', 'sentiment']]\n",
    "data.rename(columns={'stemming':'text'}, inplace=True)\n",
    "data.to_csv('dataset/data.csv', index=False)"
   ]
  },
  {
   "cell_type": "markdown",
   "metadata": {},
   "source": [
    "TRAINING MULTINOMIAL NAIVE BAYES CLASSIFIER"
   ]
  },
  {
   "cell_type": "code",
   "execution_count": 83,
   "metadata": {},
   "outputs": [
    {
     "name": "stdout",
     "output_type": "stream",
     "text": [
      "Accuracy: 0.9197530864197531\n",
      "Classification Report:\n",
      "              precision    recall  f1-score   support\n",
      "\n",
      "     negatif       0.33      0.11      0.17         9\n",
      "      netral       0.93      0.99      0.96       299\n",
      "     positif       0.50      0.06      0.11        16\n",
      "\n",
      "    accuracy                           0.92       324\n",
      "   macro avg       0.59      0.39      0.41       324\n",
      "weighted avg       0.89      0.92      0.89       324\n",
      "\n"
     ]
    }
   ],
   "source": [
    "# Baca data dari file CSV\n",
    "df = pd.read_csv('dataset/data.csv')\n",
    "df = df[['text', 'sentiment']]\n",
    "\n",
    "# Bagi data menjadi data latih dan data uji\n",
    "X = df['text']\n",
    "y = df['sentiment']\n",
    "X_train, X_test, y_train, y_test = train_test_split(X, y, test_size=0.2, random_state=0)\n",
    "\n",
    "# Ekstraksi fitur menggunakan CountVectorizer\n",
    "vectorizer = CountVectorizer()\n",
    "X_train = vectorizer.fit_transform(X_train)\n",
    "X_test = vectorizer.transform(X_test)\n",
    "\n",
    "# Melatih model dengan Naive Bayes Classifier\n",
    "clf = MultinomialNB()\n",
    "clf.fit(X_train, y_train)\n",
    "\n",
    "# Melakukan prediksi\n",
    "y_pred = clf.predict(X_test)\n",
    "\n",
    "# Menampilkan hasil\n",
    "print(\"Accuracy:\", accuracy_score(y_test, y_pred))\n",
    "\n",
    "# Menampilkan classification report\n",
    "print(\"Classification Report:\")\n",
    "print(classification_report(y_test, y_pred))\n",
    "\n"
   ]
  }
 ],
 "metadata": {
  "kernelspec": {
   "display_name": "skripsienv",
   "language": "python",
   "name": "python3"
  },
  "language_info": {
   "codemirror_mode": {
    "name": "ipython",
    "version": 3
   },
   "file_extension": ".py",
   "mimetype": "text/x-python",
   "name": "python",
   "nbconvert_exporter": "python",
   "pygments_lexer": "ipython3",
   "version": "3.11.3"
  }
 },
 "nbformat": 4,
 "nbformat_minor": 2
}
